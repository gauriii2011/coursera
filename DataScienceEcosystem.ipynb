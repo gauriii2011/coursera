{
  "metadata": {
    "kernelspec": {
      "name": "python",
      "display_name": "Python (Pyodide)",
      "language": "python"
    },
    "language_info": {
      "codemirror_mode": {
        "name": "python",
        "version": 3
      },
      "file_extension": ".py",
      "mimetype": "text/x-python",
      "name": "python",
      "nbconvert_exporter": "python",
      "pygments_lexer": "ipython3",
      "version": "3.8"
    }
  },
  "nbformat_minor": 4,
  "nbformat": 4,
  "cells": [
    {
      "cell_type": "markdown",
      "source": "# H1: Data Science Tools and Ecosystem",
      "metadata": {
        "tags": [],
        "editable": true,
        "slideshow": {
          "slide_type": ""
        }
      }
    },
    {
      "cell_type": "markdown",
      "source": "In this notebook, Data Science Tools and Ecosystem are summarized.",
      "metadata": {}
    },
    {
      "cell_type": "markdown",
      "source": "Some of the popular languages that Data Scientists use are:\n1. Python\n2. Java\n3. C++\n4. C   \n\n**Objectives:**\n* Python\n* Java\n* C++\n* C",
      "metadata": {}
    },
    {
      "cell_type": "markdown",
      "source": "Some of the commonly used libraries used by Data Scientists include:\n1. TensorFlow\n2. SciPy\n3. Pandas\n4. Numpy\n5. Matplotlib\n6. Keras\n7. SciKit-Learn\n8. Pytorch etc....",
      "metadata": {}
    },
    {
      "cell_type": "markdown",
      "source": "|Data Science Tools|\n|------|\n|Anaconda|\n|Spyder|\n|Python|\n|C++|\n|R|\n|MATLAB|\n|Java|\n",
      "metadata": {
        "tags": [],
        "editable": true,
        "slideshow": {
          "slide_type": ""
        }
      }
    },
    {
      "cell_type": "markdown",
      "source": "# H2: Below are a few examples of evaluating arithmetic expressions in Python.\n2+2-1*(12-2)\n",
      "metadata": {}
    },
    {
      "cell_type": "markdown",
      "source": "\n((5+30)*20)/10",
      "metadata": {}
    },
    {
      "cell_type": "code",
      "source": "# This a simple arithmetic expression to mutiply then add integers.\n(3*4)+5",
      "metadata": {
        "trusted": true
      },
      "outputs": [
        {
          "execution_count": 1,
          "output_type": "execute_result",
          "data": {
            "text/plain": "17"
          },
          "metadata": {}
        }
      ],
      "execution_count": 1
    },
    {
      "cell_type": "code",
      "source": "# This will convert 200 minutes to hours by diving by 60.\n200/60",
      "metadata": {
        "trusted": true
      },
      "outputs": [
        {
          "execution_count": 2,
          "output_type": "execute_result",
          "data": {
            "text/plain": "3.3333333333333335"
          },
          "metadata": {}
        }
      ],
      "execution_count": 2
    },
    {
      "cell_type": "markdown",
      "source": "**Objectives:**\n- List popular languages for Data Science\n- List popular libraries for Data Science\n- List well known Data Science Tools\n- How to provide comments in the cell\n\n",
      "metadata": {}
    },
    {
      "cell_type": "markdown",
      "source": "## H2: Author\nOksana Miasoiedova",
      "metadata": {}
    }
  ]
}